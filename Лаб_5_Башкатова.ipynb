{
  "nbformat": 4,
  "nbformat_minor": 0,
  "metadata": {
    "colab": {
      "name": "Лаб_5_Башкатова.ipynb",
      "provenance": []
    },
    "kernelspec": {
      "name": "python3",
      "display_name": "Python 3"
    }
  },
  "cells": [
    {
      "cell_type": "markdown",
      "metadata": {
        "id": "L5beyrsNnk01"
      },
      "source": [
        "# № 5.2.1\n",
        "Определите значение z=sgn(x)+y2sgn(y)−|x|−−√, где sgn - сигнум-функция, а x и y - вещественные числа:\n",
        "\n",
        "sgn(a)=⎧⎩⎨1,0,−1,a>0,a=0,a<0"
      ]
    },
    {
      "cell_type": "code",
      "metadata": {
        "colab": {
          "base_uri": "https://localhost:8080/"
        },
        "id": "yOl0otU-nlP3",
        "outputId": "d6b887e5-b318-4295-c61f-77e2d6ab8c59"
      },
      "source": [
        "# Программирование на языке высокого уровня (Python).\n",
        "# https://www.yuripetrov.ru/edu/python\n",
        "# Задание task_05_02_01.\n",
        "#\n",
        "# Выполнил: Башкатова А.Д.\n",
        "# Группа: АДЭУ-201\n",
        "\n",
        "def sgn(x):\n",
        "  if (x > 0):\n",
        "    return 1\n",
        "  elif (x < 0):\n",
        "   return -1\n",
        "  else:\n",
        "    return 0\n",
        "\n",
        "x = float(input(\"Введите х: \")) \n",
        "y = float(input(\"Введите y: \"))\n",
        "\n",
        "z = ((sgn(x) + y**2)/(sgn(y) - abs(x)**0.5))\n",
        "\n",
        "print(\"Ответ:\", round(z,2))\n",
        "\n",
        "# --------------\n",
        "# Пример вывода:\n",
        "#\n",
        "# Введите x: -9\n",
        "# Введите y: 0\n",
        "# Ответ: 0.33\n"
      ],
      "execution_count": null,
      "outputs": [
        {
          "output_type": "stream",
          "text": [
            "Введите х: -9\n",
            "Введите y: 0\n",
            "Ответ: 0.33\n"
          ],
          "name": "stdout"
        }
      ]
    },
    {
      "cell_type": "markdown",
      "metadata": {
        "id": "6xlo8QePnCEM"
      },
      "source": [
        "# № 5.2.2\n",
        "\n",
        "Дан список температурных изменений в течение дня (целые числа). Известно, что измеряющее устройство иногда сбоит и записывает отсутствие температуры (значение None).\n",
        "\n",
        "Выведите среднюю температуру за наблюдаемый промежуток времени, предварительно очистив список от неопределенных значений. Гарантируется, что хотя бы одно определенное значение в списке есть."
      ]
    },
    {
      "cell_type": "code",
      "metadata": {
        "colab": {
          "base_uri": "https://localhost:8080/"
        },
        "id": "QI1YB_ixmpwp",
        "outputId": "0cd2ad94-6e50-42ed-c86a-7a49657c2330"
      },
      "source": [
        "# Программирование на языке высокого уровня (Python).\n",
        "# https://www.yuripetrov.ru/edu/python\n",
        "# Задание task_05_02_02.\n",
        "#\n",
        "# Выполнил: Башкатова А.Д.\n",
        "# Группа: АДЭУ-201\n",
        "\n",
        "def avg(self):\n",
        "  return sum(self) / len(self)\n",
        "\n",
        "def cleared_data(self):\n",
        "  new_data = []\n",
        "  for x in data:\n",
        "    if (x != None):\n",
        "      new_data.append(x)\n",
        "  return new_data\n",
        "\n",
        "n = int(input(\"Количество измерений:\"))  \n",
        "\n",
        "data = []\n",
        "\n",
        "for i in range(n):\n",
        "  inp = input(f\"Измерение {i+1}:\")\n",
        "  if (inp == \"-\"):\n",
        "    data.append(None)\n",
        "  else:\n",
        "     data.append(int(inp))\n",
        "   \n",
        "print(\"Средняя температура:\", avg(cleared_data(data)))\n",
        "\n",
        "# --------------\n",
        "# Пример вывода:\n",
        "#\n",
        "# Кол-во измерений: 3\n",
        "# Измерение 1-е: 10\n",
        "# Измерение 2-е: -\n",
        "# Измерение 3-е: 20\n",
        "# Средняя температура: 15.00\n"
      ],
      "execution_count": null,
      "outputs": [
        {
          "output_type": "stream",
          "text": [
            "Количество измерений:3\n",
            "Измерение 1:10\n",
            "Измерение 2:-\n",
            "Измерение 3:20\n",
            "Средняя температура: 15.0\n"
          ],
          "name": "stdout"
        }
      ]
    },
    {
      "cell_type": "markdown",
      "metadata": {
        "id": "fV6fOt2h4G47"
      },
      "source": [
        "# № 5.2.3\n",
        "\n",
        "Выведите все счастливые номера билетов в диапазоне от a до b (положительные целые числа, a<b), если известно, что счастливым считается номер, у которого количество четных цифр равно количеству нечетных.\n"
      ]
    },
    {
      "cell_type": "code",
      "metadata": {
        "colab": {
          "base_uri": "https://localhost:8080/"
        },
        "id": "UVpkksjWDZg6",
        "outputId": "d52f3ca6-3b13-48b2-88cc-22d0c8aa07f6"
      },
      "source": [
        "# Программирование на языке высокого уровня (Python).\r\n",
        "# https://www.yuripetrov.ru/edu/python\r\n",
        "# Задание task_05_02_03.\r\n",
        "#\r\n",
        "# Выполнил: Башкатова А.Д.\r\n",
        "# Группа: АДЭУ-201\r\n",
        "\r\n",
        "a = int(input(\"Первый номер билета: \"))\r\n",
        "b = int(input(\"Последний номер билета: \"))\r\n",
        "\r\n",
        "def lucky(a, b):\r\n",
        "    for i in range(a,b+1):\r\n",
        "      s = i % 10\r\n",
        "      s2 = i // 10\r\n",
        "      if (s % 2 == 0 and s2 % 2 != 0) or (s2 % 2 == 0 and s % 2 != 0):\r\n",
        "        print('{0}{1}'.format(s2, s), end = ' ')\r\n",
        "\r\n",
        "print(lucky(a, b))\r\n",
        "\r\n",
        "# --------------\r\n",
        "# Пример вывода:\r\n",
        "#\r\n",
        "# Первый номер билета: 10\r\n",
        "# Последний номер билета: 25\r\n",
        "# 10 12 14 16 18 21 23 25"
      ],
      "execution_count": null,
      "outputs": [
        {
          "output_type": "stream",
          "text": [
            "Первый номер билета: 10\n",
            "Последний номер билета: 25\n",
            "10 12 14 16 18 21 23 25 None\n"
          ],
          "name": "stdout"
        }
      ]
    },
    {
      "cell_type": "markdown",
      "metadata": {
        "id": "9Un-QToD0KMb"
      },
      "source": [
        "# № 5.2.4\r\n",
        "\r\n",
        "Дата характеризуется тремя натуральными числами: день, месяц и год. Учитывая, что год может быть високосным, реализуйте две функции, которые определяют вчерашнюю и завтрашнюю дату."
      ]
    },
    {
      "cell_type": "code",
      "metadata": {
        "colab": {
          "base_uri": "https://localhost:8080/"
        },
        "id": "mOKBYXXsgVQN",
        "outputId": "1e3503dc-593f-4164-f26c-235ded92f14b"
      },
      "source": [
        "# Программирование на языке высокого уровня (Python).\r\n",
        "# https://www.yuripetrov.ru/edu/python\r\n",
        "# Задание task_05_02_04.\r\n",
        "#\r\n",
        "# Выполнил: Башкатова А.Д.\r\n",
        "# Группа: АДЭУ-201\r\n",
        "\r\n",
        "def y_date(day,month,year):\r\n",
        "    i=1\r\n",
        "    last_day=[31,28,31,30,31,30,31,31,30,31,30,31]\r\n",
        "    if day==1:\r\n",
        "        if month==1:\r\n",
        "            month=12\r\n",
        "            day=31\r\n",
        "            year=year-1\r\n",
        "        else:\r\n",
        "            while i!=month:\r\n",
        "                i=i+1\r\n",
        "            if (i==3) and (year%4==0):\r\n",
        "                    last_day[i]=last_day[i-2]+1\r\n",
        "                    day=last_day[i]\r\n",
        "            else:\r\n",
        "                day=last_day[i-2]\r\n",
        "            month=month-1\r\n",
        "    else:\r\n",
        "        day=day-1\r\n",
        "    return day,month,year\r\n",
        " \r\n",
        "def n_date(day,month,year):\r\n",
        "    i=1\r\n",
        "    next_day=[31,28,31,30,31,30,31,31,30,31,30,31]\r\n",
        "    if (day==31) and (month==12) :\r\n",
        "        year=year+1\r\n",
        "        day=1\r\n",
        "        month=1\r\n",
        "        return day,month,year\r\n",
        "    else:\r\n",
        "        while i!=month:\r\n",
        "            i=i+1\r\n",
        "        if (i==2) and (year%4==0) and (day==28) :\r\n",
        "                next_day[i]=next_day[i-1]+1\r\n",
        "                day=next_day[i]\r\n",
        "        else:\r\n",
        "            if day==next_day[i-1] or (i==2) and (day==29):\r\n",
        "                month=month+1\r\n",
        "                day=1\r\n",
        "            else:\r\n",
        "                day=day+1\r\n",
        "        return day,month,year\r\n",
        "day=[]\r\n",
        "month=[]\r\n",
        "year=[]\r\n",
        "day, month, year= list(map(int,input(\"День, месяц, год через пробел: \").split()))\r\n",
        "print(\"Предыдущий день:\", y_date(day,month,year))\r\n",
        "print(\"Следующий день:\", n_date(day,month,year))\r\n",
        "\r\n",
        "# --------------\r\n",
        "# Пример вывода:\r\n",
        "#\r\n",
        "# День, месяц, год через пробел: 1 3 2000\r\n",
        "# Предыдущий день: (29 2 2000)\r\n",
        "# Следующий день: (2 3 2000)"
      ],
      "execution_count": null,
      "outputs": [
        {
          "output_type": "stream",
          "text": [
            "День, месяц, год через пробел: 1 3 2000\n",
            "Предыдущий день: (29, 2, 2000)\n",
            "Следующий день: (2, 3, 2000)\n"
          ],
          "name": "stdout"
        }
      ]
    },
    {
      "cell_type": "markdown",
      "metadata": {
        "id": "gFRDY6a5VPXW"
      },
      "source": [
        "# № 5.2.5 \r\n",
        "В задаче № 5.2.4 замените функции получения вчерашней и завтрашней даты на одну:\r\n",
        "\r\n",
        "def another_date(day, month, year, delta=1):\r\n",
        "    pass\r\n",
        "где delta - ключевой параметр, определяющий сколько дней необходимо добавить или вычесть (если аргумент отрицательный) из переданной даты. Функции, реализованные в задаче № 5.2.4 сделайте локальными для another_date(), вызывая их внутри необходимое количество раз."
      ]
    },
    {
      "cell_type": "code",
      "metadata": {
        "colab": {
          "base_uri": "https://localhost:8080/"
        },
        "id": "gEfv8wH0vzPh",
        "outputId": "d17c203e-ddac-4512-828a-4e9d64c55688"
      },
      "source": [
        "# Программирование на языке высокого уровня (Python).\r\n",
        "# https://www.yuripetrov.ru/edu/python\r\n",
        "# Задание task_05_02_05.\r\n",
        "#\r\n",
        "# Выполнил: Башкатова А.Д.\r\n",
        "# Группа: АДЭУ-201\r\n",
        "\r\n",
        "def y_date(day,month,year):\r\n",
        "    i=1\r\n",
        "    last_day=[31,28,31,30,31,30,31,31,30,31,30,31]\r\n",
        "    if day==1:\r\n",
        "        if month==1:\r\n",
        "            month=12\r\n",
        "            day=31\r\n",
        "            year=year-1\r\n",
        "        else:\r\n",
        "            while i!=month:\r\n",
        "                i=i+1\r\n",
        "            if (i==3) and (year%4==0):\r\n",
        "                    last_day[i]=last_day[i-2]+1\r\n",
        "                    day=last_day[i]\r\n",
        "            else:\r\n",
        "                day=last_day[i-2]\r\n",
        "            month=month-1\r\n",
        "    else:\r\n",
        "        day=day-1\r\n",
        "    return day,month,year\r\n",
        " \r\n",
        "def n_date(day,month,year):\r\n",
        "    i=1\r\n",
        "    next_day=[31,28,31,30,31,30,31,31,30,31,30,31]\r\n",
        "    if (day==31) and (month==12) :\r\n",
        "        year=year+1\r\n",
        "        day=1\r\n",
        "        month=1\r\n",
        "        return day,month,year\r\n",
        "    else:\r\n",
        "        while i!=month:\r\n",
        "            i=i+1\r\n",
        "        if (i==2) and (year%4==0) and (day==28) :\r\n",
        "                next_day[i]=next_day[i-1]+1\r\n",
        "                day=next_day[i]\r\n",
        "        else:\r\n",
        "            if day==next_day[i-1] or (i==2) and (day==29):\r\n",
        "                month=month+1\r\n",
        "                day=1\r\n",
        "            else:\r\n",
        "                day=day+1\r\n",
        "        return day,month,year\r\n",
        "\r\n",
        "def another_date(day, month, year, delta):\r\n",
        "  date = [day, month, year]\r\n",
        "  if delta > 0:\r\n",
        "    for i in range(0, delta):\r\n",
        "      date = n_date(date[0], date[1], date[2])\r\n",
        "  elif delta < 0:\r\n",
        "    for i in range(0, abs(delta)):\r\n",
        "       date = y_date(date[0], date[1], date[2])\r\n",
        "  return date\r\n",
        "\r\n",
        "day=[]\r\n",
        "month=[]\r\n",
        "year=[]\r\n",
        "day, month, year= list(map(int,input(\"День, месяц, год через пробел:\").split()))\r\n",
        "\r\n",
        "print(\"Новый день:\", another_date(day, month, year, delta = int(input(\"Свдиг (может быть отрицательным):\"))))\r\n",
        "\r\n",
        "# --------------\r\n",
        "# Пример вывода:\r\n",
        "#\r\n",
        "# День, месяц, год через пробел: 1 1 2000\r\n",
        "# Свдиг (может быть отрицательным): -2\r\n",
        "# Новый день: )30 12 1999)\r\n",
        "#\r\n",
        "# День, месяц, год через пробел: 1 1 2000\r\n",
        "# Свдиг (может быть отрицательным): 2\r\n",
        "# Новый день: (03 01 2000)\r\n"
      ],
      "execution_count": null,
      "outputs": [
        {
          "output_type": "stream",
          "text": [
            "День, месяц, год через пробел: 1 1 2000\n",
            "Свдиг (может быть отрицательным):2\n",
            "Новый день: (3, 1, 2000)\n"
          ],
          "name": "stdout"
        }
      ]
    },
    {
      "cell_type": "markdown",
      "metadata": {
        "id": "oH0mNt-n0_4U"
      },
      "source": [
        "# № 5.2.6\r\n",
        "\r\n",
        "Дан список из чисел.\r\n",
        "\r\n",
        "Определите их НОК (наименьшее общее кратное) и НОД (наибольший общий делитель)."
      ]
    },
    {
      "cell_type": "code",
      "metadata": {
        "colab": {
          "base_uri": "https://localhost:8080/"
        },
        "id": "N3mb4Yy7IC8C",
        "outputId": "c37d3b39-017d-43ec-97dd-326d90bab255"
      },
      "source": [
        "# Программирование на языке высокого уровня (Python).\r\n",
        "# https://www.yuripetrov.ru/edu/python\r\n",
        "# Задание task_05_02_06.\r\n",
        "#\r\n",
        "# Выполнил: Башкатова А.Д.\r\n",
        "# Группа: АДЭУ-201\r\n",
        "\r\n",
        "def gcd(first, second):\r\n",
        "    while first != second:\r\n",
        "      if first > second:\r\n",
        "        first -= second\r\n",
        "      else:\r\n",
        "        second -= first\r\n",
        "    return first\r\n",
        "\r\n",
        "def lcm(first, second):\r\n",
        "    num = 1\r\n",
        "    while num % first != 0 or num % second != 0:\r\n",
        "      num += 1\r\n",
        "    return num\r\n",
        "\r\n",
        "def gcd_nums(nums):\r\n",
        "    while len(nums) != 1:\r\n",
        "      nums[1] = gcd(nums[0], nums[1])\r\n",
        "      nums.pop(0)\r\n",
        "    return nums[0]\r\n",
        "\r\n",
        "def lcm_nums(nums):\r\n",
        "    while len(nums) != 1:\r\n",
        "      nums[1] = lcm(nums[0], nums[1])\r\n",
        "      nums.pop(0)\r\n",
        "    return nums[0]\r\n",
        "\r\n",
        "nums = list(map(int, input(\"Введите числа через пробел:\").split()))\r\n",
        "nu = nums[:]\r\n",
        "print(\"НОД =\", gcd_nums(nums))\r\n",
        "print(\"НОК =\", lcm_nums(nu))\r\n",
        "\r\n",
        "# --------------\r\n",
        "# Пример вывода:\r\n",
        "#\r\n",
        "# Введите числа через пробел: 8 10 14\r\n",
        "# НОД = 2\r\n",
        "# НОК = 280\r\n",
        "#\r\n",
        "# Введите числа через пробел: 6 8 24 16\r\n",
        "# НОД = 2\r\n",
        "# НОК = 48"
      ],
      "execution_count": null,
      "outputs": [
        {
          "output_type": "stream",
          "text": [
            "Введите числа через пробел:6 8 24 16\n",
            "НОД = 2\n",
            "НОК = 48\n"
          ],
          "name": "stdout"
        }
      ]
    },
    {
      "cell_type": "markdown",
      "metadata": {
        "id": "3ts_ZG821BMg"
      },
      "source": [
        "# № 5.2.7\r\n",
        "\r\n",
        "Даны n предложений. Определите, сколько из них содержат хотя бы одну цифру."
      ]
    },
    {
      "cell_type": "code",
      "metadata": {
        "colab": {
          "base_uri": "https://localhost:8080/"
        },
        "id": "rMHYHg6LFBRM",
        "outputId": "2a580c2b-10cd-44b7-d73a-d119b5366a72"
      },
      "source": [
        "# Программирование на языке высокого уровня (Python).\r\n",
        "# https://www.yuripetrov.ru/edu/python\r\n",
        "# Задание task_05_02_07.\r\n",
        "#\r\n",
        "# Выполнил: Башкатова А.Д.\r\n",
        "# Группа: АДЭУ-201\r\n",
        "\r\n",
        "\r\n",
        "\r\n",
        "def has_digits(sentence):\r\n",
        "    return any(map(str.isdigit, sentence))\r\n",
        "\r\n",
        "def sentences_with_digits_count(sentences):\r\n",
        "    func = sentences_with_digits_count\r\n",
        "    if not hasattr(func, 'count'):\r\n",
        "      func.count = 0\r\n",
        "    if has_digits(sentences):\r\n",
        "      func.count += 1\r\n",
        "    return func.count\r\n",
        "\r\n",
        "n = int(input(\"Введите количество предложений:\"))\r\n",
        "for i in range(1, n+1):\r\n",
        "  sentence = input(f\"Введите предложение №{i}:\")\r\n",
        "  sentences_with_digits_count(sentence)\r\n",
        "print(\"Предложений с цифрой:\", sentences_with_digits_count(sentence))\r\n",
        "\r\n",
        "# --------------\r\n",
        "# Пример вывода:\r\n",
        "#\r\n",
        "# Введите количество предложений: 3\r\n",
        "# Введите предложение №1:\r\n",
        "# Просто текст\r\n",
        "# Введите предложение №2:\r\n",
        "# Текст с цифрой 1 (один)\r\n",
        "# Введите предложение №3:\r\n",
        "# Тут нет цифры\r\n",
        "# Предложений с цифрой = 1"
      ],
      "execution_count": null,
      "outputs": [
        {
          "output_type": "stream",
          "text": [
            "Введите количество предложений:4\n",
            "Введите предложение №1:Просто предложение\n",
            "Введите предложение №2:Петя получил оценку 5\n",
            "Введите предложение №3:Маша купила 6 упаковок\n",
            "Введите предложение №4:Дима пошёл гулять\n",
            "Предложений с цифрой: 2\n"
          ],
          "name": "stdout"
        }
      ]
    },
    {
      "cell_type": "markdown",
      "metadata": {
        "id": "XPFGaZL-4xJn"
      },
      "source": [
        "# № 5.2.14\r\n",
        "\r\n",
        "Напишите функцию, которая принимает неограниченное количество числовых аргументов и возвращает кортеж из двух списков:\r\n",
        "\r\n",
        "отрицательных значений (отсортирован по убыванию);\r\n",
        "\r\n",
        "неотрицательных значений (отсортирован по возрастанию)."
      ]
    },
    {
      "cell_type": "code",
      "metadata": {
        "colab": {
          "base_uri": "https://localhost:8080/"
        },
        "id": "ozsAG4t757di",
        "outputId": "332a5486-c273-4c5c-e0e1-c781a975ddf0"
      },
      "source": [
        "# Программирование на языке высокого уровня (Python).\r\n",
        "# https://www.yuripetrov.ru/edu/python\r\n",
        "# Задание task_05_02_14.\r\n",
        "#\r\n",
        "# Выполнил: Башкатова А.Д.\r\n",
        "# Группа: АДЭУ-201\r\n",
        "\r\n",
        "minus = []\r\n",
        "plus = []\r\n",
        "numbers = list(map(int,input().split()))\r\n",
        "def split_numbers(numbers):\r\n",
        "  for n in numbers:\r\n",
        "    if n < 0:\r\n",
        "      minus.append(n)\r\n",
        "    else:\r\n",
        "      plus.append(n)\r\n",
        "\r\n",
        "    plus.sort()\r\n",
        "    minus.sort()\r\n",
        "    minus.reverse()\r\n",
        "    \r\n",
        "print(split_numbers(numbers),'(',minus,',',plus,')')\r\n",
        "\r\n",
        "\r\n",
        "# --------------\r\n",
        "# Пример вывода:\r\n",
        "#\r\n",
        "# ([-5, -33], [0, 1, 4])\r\n"
      ],
      "execution_count": null,
      "outputs": [
        {
          "output_type": "stream",
          "text": [
            "-5 0 4 1 -33\n",
            "None ( [-5, -33] , [0, 1, 4] )\n"
          ],
          "name": "stdout"
        }
      ]
    }
  ]
}