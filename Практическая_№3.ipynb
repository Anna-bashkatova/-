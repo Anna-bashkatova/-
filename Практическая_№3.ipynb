{
  "nbformat": 4,
  "nbformat_minor": 0,
  "metadata": {
    "colab": {
      "name": "Практическая №3.ipynb",
      "provenance": []
    },
    "kernelspec": {
      "name": "python3",
      "display_name": "Python 3"
    }
  },
  "cells": [
    {
      "cell_type": "markdown",
      "metadata": {
        "id": "DPIBmIxDQfVk"
      },
      "source": [
        "# Пример №1"
      ]
    },
    {
      "cell_type": "code",
      "metadata": {
        "id": "f2G7JQAFQbC4",
        "colab": {
          "base_uri": "https://localhost:8080/"
        },
        "outputId": "1296338c-f0d6-4fdf-e13f-ddf00161b352"
      },
      "source": [
        "class T1:\n",
        "  n=10\n",
        "  def total (self, N): #метод total прибавление 10 к аргументу\n",
        "    self.total = int(self.n) + int(N)\n",
        "\n",
        "class T2:\n",
        "  def total(self,s): #метод total подсчт длины строки символов\n",
        "    self.total = len(str(s))\n",
        "\n",
        "t1 = T1()\n",
        "t2 = T2()\n",
        "t1.total(45)\n",
        "t2.total(45)\n",
        "print(t1.total)\n",
        "print(t2.total)\n"
      ],
      "execution_count": null,
      "outputs": [
        {
          "output_type": "stream",
          "text": [
            "55\n",
            "2\n"
          ],
          "name": "stdout"
        }
      ]
    },
    {
      "cell_type": "markdown",
      "metadata": {
        "id": "iEWEvnozRsKF"
      },
      "source": [
        "# Задание №1\n",
        "Напишите программу, запрашивающую у пользователья ввод числа. Если число принадлежит диапозону от -100 до 100, то создается объект одного класса, во всех остальных случаях создается обьект другого класса. В обоих классах должен быть метод конструктор __init__, который в первом классе возводит число в квадрат, а во-втором - умножает на два."
      ]
    },
    {
      "cell_type": "code",
      "metadata": {
        "id": "yjsLGacqRsmN",
        "colab": {
          "base_uri": "https://localhost:8080/"
        },
        "outputId": "0b314e57-a6c1-4448-8a5a-57b04a6bbbe7"
      },
      "source": [
        "class One:\n",
        " def __init__(self,a):\n",
        "  self.a = a**2\n",
        "\n",
        "class Two:\n",
        "  def __init__(self,a):\n",
        "    self.a = a*2\n",
        "\n",
        "a = input(\"Введите число:\")\n",
        "a = int(a)\n",
        "if -100 < a < 100:\n",
        "  obj = One(a)\n",
        "else:\n",
        "  obj = Two(a)\n",
        "\n",
        "print(obj.a)"
      ],
      "execution_count": 1,
      "outputs": [
        {
          "output_type": "stream",
          "text": [
            "Введите число:10\n",
            "100\n"
          ],
          "name": "stdout"
        }
      ]
    },
    {
      "cell_type": "markdown",
      "metadata": {
        "id": "FmywEDT2TWlm"
      },
      "source": [
        "# Задание №2"
      ]
    },
    {
      "cell_type": "code",
      "metadata": {
        "id": "mtqXyGWtTcVS",
        "colab": {
          "base_uri": "https://localhost:8080/"
        },
        "outputId": "082ffecf-6f47-4a7a-8f23-105f765af478"
      },
      "source": [
        "class Base:\n",
        "  def __init__(self,n):\n",
        "    self.numb = n \n",
        "  def out(self):\n",
        "    print(self.numb)\n",
        "\n",
        "class One(Base):\n",
        "  def multi(self,m):\n",
        "    self.numb *= m \n",
        "\n",
        "class Two(Base):\n",
        "  def inlist(self):\n",
        "    self.inlist = list(str(self.numb)) \n",
        "  def out(self):\n",
        "    i = 0\n",
        "    while i < len(self.inlist):\n",
        "        print(self.inlist[i])\n",
        "        i += 1\n",
        "\n",
        "obj1 = One(45)\n",
        "obj2 = Two('abc')\n",
        "\n",
        "obj1.multi(2)\n",
        "obj1.out() # Вывод числа 90\n",
        "\n",
        "obj2.inlist()\n",
        "obj2.out() # Вывод в столбик букв a, b,c "
      ],
      "execution_count": 3,
      "outputs": [
        {
          "output_type": "stream",
          "text": [
            "90\n",
            "a\n",
            "b\n",
            "c\n"
          ],
          "name": "stdout"
        }
      ]
    },
    {
      "cell_type": "markdown",
      "metadata": {
        "id": "xH3-nfYdVGJy"
      },
      "source": [
        "# Задание №3"
      ]
    },
    {
      "cell_type": "code",
      "metadata": {
        "colab": {
          "base_uri": "https://localhost:8080/"
        },
        "id": "fME5QD6JkUx5",
        "outputId": "379511bb-7e0e-4612-8447-0872711f90f8"
      },
      "source": [
        "class Base:\r\n",
        "  def __init__(self,N):\r\n",
        "    self.numb = N \r\n",
        "  def out(self):\r\n",
        "    self.numb /= 2 \r\n",
        "    print(self.numb)\r\n",
        "\r\n",
        "class Subclass(Base):\r\n",
        "  def out(self):\r\n",
        "    print(\"/n----\")\r\n",
        "    Base.out(self)\r\n",
        "    print(\"----/n\")\r\n",
        "   \r\n",
        "i = 0\r\n",
        "while i < 10:\r\n",
        "  if 4 < i < 7:\r\n",
        "     obj = Subclass(i)\r\n",
        "  else:  \r\n",
        "    obj = Base(i)\r\n",
        "  i += 1\r\n",
        "\r\n",
        "obj.out()"
      ],
      "execution_count": 4,
      "outputs": [
        {
          "output_type": "stream",
          "text": [
            "4.5\n"
          ],
          "name": "stdout"
        }
      ]
    },
    {
      "cell_type": "markdown",
      "metadata": {
        "id": "KdIMc3g_5BBB"
      },
      "source": [
        "# Практическое задание последнее такое же как вся практическая работа №4, и предоставлена отдельным файлом."
      ]
    }
  ]
}