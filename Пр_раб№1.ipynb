{
  "nbformat": 4,
  "nbformat_minor": 0,
  "metadata": {
    "colab": {
      "name": "Пр.раб№1.ipynb",
      "provenance": []
    },
    "kernelspec": {
      "name": "python3",
      "display_name": "Python 3"
    }
  },
  "cells": [
    {
      "cell_type": "markdown",
      "metadata": {
        "id": "r-s-2bT5MDLs"
      },
      "source": [
        "Практическая №1"
      ]
    },
    {
      "cell_type": "markdown",
      "metadata": {
        "id": "tavhdtyMRKJw"
      },
      "source": [
        "# №1"
      ]
    },
    {
      "cell_type": "code",
      "metadata": {
        "id": "DOZjsh8dLQ_H",
        "outputId": "4e1906f1-a503-42d3-d46b-4ce18532d442",
        "colab": {
          "base_uri": "https://localhost:8080/",
          "height": 68
        }
      },
      "source": [
        "class Human:\n",
        "    def __init__(self, name, age, iq):\n",
        "      self.name = name\n",
        "      self.age = age\n",
        "      if self.age < 0:\n",
        "        print('Oops, necromancer detected =)')\n",
        "      self.iq = iq\n",
        "Human1=Human('Nir', 16, 100) #создали экземпляр класс\n",
        "print(Human1.name, Human1.age, Human1.iq) #вывод свойств экземпляров класса\n",
        "\n",
        "Human2=Human('Nik', -1, 100)\n",
        "print(Human2.name, Human2.age, Human2.iq)\n",
        "\n",
        "\n"
      ],
      "execution_count": null,
      "outputs": [
        {
          "output_type": "stream",
          "text": [
            "Nir 16 100\n",
            "Oops, necromancer detected =)\n",
            "Nik -1 100\n"
          ],
          "name": "stdout"
        }
      ]
    },
    {
      "cell_type": "markdown",
      "metadata": {
        "id": "vCMCr_hYREdO"
      },
      "source": [
        "# №2"
      ]
    },
    {
      "cell_type": "code",
      "metadata": {
        "id": "WHbHoWGaRG6w",
        "outputId": "422d5c5a-134d-48d4-a996-3bd35f6a5219",
        "colab": {
          "base_uri": "https://localhost:8080/"
        }
      },
      "source": [
        "class Point:\n",
        "  amount=0\n",
        "\n",
        "  def __init__(self, *args):\n",
        "    if len(args)==2:\n",
        "      self.x = args[0]\n",
        "      self.y = args[1]\n",
        "    else:\n",
        "      self.x = self.y = 0\n",
        "    Point.amount += 1\n",
        "\n",
        "  def __del__(self):\n",
        "    Point.amount -= 1\n",
        "  \n",
        "  def distance(self): \n",
        "    return (self.x **2 + self.y ** 2) **0.5\n",
        "\n",
        "  def __str__(self):\n",
        "    return'({}; {})'.format(self.x, self.y)\n",
        "\n",
        "p=Point(36,42)\n",
        "print(p)\n",
        "\n",
        "print(round(p.distance(),2))\n",
        "\n",
        "from math import sqrt,pi\n",
        "\n",
        "class Circle:\n",
        "  def __init__(self, x, y, radius):\n",
        "    self.center = Point(x,y)\n",
        "    self.radius=radius\n",
        "  \n",
        "  def LenCircle(self):\n",
        "    return 2*pi*radius\n",
        "\n",
        "  def Square(self):\n",
        "    return pi*radius **2\n",
        "\n",
        "  def move(self, x, y):\n",
        "    self.center.x = x\n",
        "    self.center.y = y\n",
        "\n",
        "  def distance(self):\n",
        "    return sqrt(self.center.x**2 + self.center.y**2)\n",
        "\n",
        "  def __str__(self):\n",
        "    return 'Circle: center: {}, radius: {}'.format(self.center, self.radius)\n",
        "\n",
        "\n",
        "\n",
        "x=int(input())\n",
        "y=int(input())\n",
        "radius=int(input())\n",
        "try:\n",
        "  c=x*y/radius\n",
        "  print(\"Круг существует\")\n",
        "except ZeroDivisionError:\n",
        "  print(\"Не существует круга с радиусом 0\")\n",
        "  \n",
        "\n",
        "Circle1=Circle(1, 2, 4)\n",
        "radius=4\n",
        "\n",
        "print(Circle1)\n",
        "print(round(Circle1.LenCircle(),2))\n",
        "print(round(Circle1.Square(),2))\n",
        "print(Circle1.move(2,4))\n",
        "print(round(Circle1.distance(),2))\n",
        "circle2=Circle(1, 2,4)\n",
        "print(circle2)\n",
        "\n",
        "\n"
      ],
      "execution_count": null,
      "outputs": [
        {
          "output_type": "stream",
          "text": [
            "(36; 42)\n",
            "55.32\n",
            "1\n",
            "2\n",
            "4\n",
            "Круг существует\n",
            "Circle: center: (1; 2), radius: 4\n",
            "25.13\n",
            "50.27\n",
            "None\n",
            "4.47\n",
            "Circle: center: (1; 2), radius: 4\n"
          ],
          "name": "stdout"
        }
      ]
    },
    {
      "cell_type": "markdown",
      "metadata": {
        "id": "mwozj-oLVtKA"
      },
      "source": [
        "# №3"
      ]
    },
    {
      "cell_type": "code",
      "metadata": {
        "id": "1-OQNrvEVvZp"
      },
      "source": [
        "from math import sqrt,pi\n",
        "\n",
        "class Circle:\n",
        "  def __init__(self, x, y, radius):\n",
        "    self.center = Point(x,y)\n",
        "    self.radius = radius\n",
        "  \n",
        "  def LenCircle(self):\n",
        "    return 2 * pi * radius\n",
        "\n",
        "  def Square(self):\n",
        "    return pi*radius**2\n",
        "\n",
        "  def move(self, x, y):\n",
        "    self.center.x = x\n",
        "    self.center.y = y\n",
        "\n",
        "  def distance(self):\n",
        "    return sqrt(self.center.x**2 + self.center.y**2)\n",
        "\n",
        "  def __str__(self):\n",
        "    return 'Circle: center: {}, radius: {}'.format(self.center, self.radius)\n",
        "\n",
        "  \n",
        "\n"
      ],
      "execution_count": null,
      "outputs": []
    }
  ]
}